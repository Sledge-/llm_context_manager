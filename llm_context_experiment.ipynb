{
 "cells": [
  {
   "cell_type": "markdown",
   "metadata": {},
   "source": [
    "# Context Manager\n",
    "The context manager is a Python class designed to process batches of legal documents through the LLMSummarizer, preparing the data for other applications. It iterates over each section in a dictionary, summarizes the values, and returns the results."
   ]
  },
  {
   "cell_type": "code",
   "execution_count": 34,
   "metadata": {},
   "outputs": [],
   "source": [
    "from llm_context_manager import LLMContextManager, dict_to_text\n",
    "from llm_analyzer import LLMAnalyzer, extract_args\n",
    "import openai\n",
    "from termcolor import colored\n",
    "from utils import parse_string_to_list"
   ]
  },
  {
   "cell_type": "code",
   "execution_count": 40,
   "metadata": {},
   "outputs": [],
   "source": [
    "openai.api_key=\"use-your-open-ai-key-here\""
   ]
  },
  {
   "cell_type": "markdown",
   "metadata": {},
   "source": [
    "### The Setup\n",
    "We're going to mock a vectordata base query by loading flat files."
   ]
  },
  {
   "cell_type": "code",
   "execution_count": 8,
   "metadata": {},
   "outputs": [
    {
     "name": "stdout",
     "output_type": "stream",
     "text": [
      "loading doc9.txt\n",
      "loading .DS_Store\n",
      "loading doc8.txt\n",
      "loading doc12.txt\n",
      "loading doc10.txt\n",
      "loading doc11.txt\n",
      "loading doc6.txt\n",
      "loading doc7.txt\n",
      "loading doc5.txt\n",
      "loading doc4.txt\n",
      "loading doc1.txt\n",
      "loading doc3.txt\n",
      "loading doc2.txt\n"
     ]
    }
   ],
   "source": [
    "# Load all files from the 'examples' directory\n",
    "llm_context_manager = LLMContextManager.load_from_directory(dir_path='examples')"
   ]
  },
  {
   "cell_type": "markdown",
   "metadata": {},
   "source": [
    "### Explore\n",
    "Let's take a look at one example data.\n",
    "\n",
    "Note that these are not real legal documents.  I generated this data for demo purposes using GPT4."
   ]
  },
  {
   "cell_type": "code",
   "execution_count": 9,
   "metadata": {},
   "outputs": [
    {
     "name": "stdout",
     "output_type": "stream",
     "text": [
      "Contents of the 'example_section' section: AUTO LOAN AGREEMENT\n",
      "THIS AGREEMENT is made this 1st day of March, 2023.\n",
      "\n",
      "BETWEEN:\n",
      "ABC Auto Loans 157, a financial institution duly organized and existing under the laws of the state, having its principal place of business at 2793 Elm St, Springfield, USA (hereinafter referred to as the \"Lender\").\n",
      "\n",
      "John Doe 951, an individual residing at 512 Main St, Springfield, USA (hereinafter referred to as the \"Borrower\").\n",
      "\n",
      "RECITALS:\n",
      "WHEREAS, the Borrower has requested the Lender to extend a loan to the Borrower for the purpose of financing the acquisition of a vehicle described in detail in ARTICLE 1;\n",
      "\n",
      "WHEREAS, the Lender has agreed to extend such a loan to the Borrower on the terms and conditions set forth herein;\n",
      "\n",
      "NOW, THEREFORE, in consideration of the mutual covenants contained herein and other good and valuable consideration, the receipt and sufficiency of which are hereby acknowledged, the parties hereto agree as follows:\n",
      "\n",
      "ARTICLE 1 – LOAN DETAILS\n",
      "1.1 Loan Amount\n",
      "The Lender agrees to lend to the Borrower, and the Borrower agrees to borrow from the Lender, the principal amount of FIFTY-TWO THOUSAND FIVE HUNDRED FIFTY-TWO UNITED STATES DOLLARS (US$52,552) (the \"Loan\").\n",
      "\n",
      "1.2 Interest Rate\n",
      "The Loan shall bear interest at a rate of nine point sixty-seven percent (9.67%) per annum, calculated on the basis of a 360-day year for the actual number of days elapsed.\n",
      "\n",
      "1.3 Loan Term\n",
      "The term of the Loan shall be forty-four (44) months, commencing on the date hereof and ending on the last day of the forty-fourth month thereafter, unless sooner terminated in accordance with the terms hereof.\n",
      "\n",
      "1.4 Down Payment\n",
      "The Borrower has made a down payment of THREE THOUSAND EIGHT HUNDRED SEVENTY-FOUR DOLLARS AND SEVENTY-SEVEN CENTS (US$3,874.77) towards the purchase of the vehicle.\n",
      "\n",
      "1.5 Repayment\n",
      "The Borrower shall repay the Loan in monthly installments of principal and interest, with the first installment due on April 1, 2023, and subsequent installments due on the first day of each month thereafter.\n",
      "\n",
      "1.6 Vehicle Details\n",
      "The loan is extended for the purpose of financing the acquisition of the following vehicle:\n",
      "\n",
      "Make: Hyundai\n",
      "Model: Van\n",
      "Year: 2016\n",
      "VIN: WIK3ZNEGTQ4JOSX8U\n",
      "ARTICLE 2 – REPRESENTATIONS AND WARRANTIES\n",
      "The Borrower hereby represents and warrants to the Lender as follows:\n",
      "\n",
      "2.1 Legal Age\n",
      "The Borrower is of legal age to enter into binding contracts in the jurisdiction where the Borrower resides.\n",
      "\n",
      "2.2 Accurate Information\n",
      "All information provided by the Borrower to the Lender, including but not limited to the Borrower’s financial condition, is true, correct, and complete.\n",
      "\n",
      "(Additional representations and warranties would include details regarding no conflicts, litigation, accuracy of information, etc.)\n",
      "\n",
      "ARTICLE 3 – COVENANTS\n",
      "The Borrower covenants and agrees with the Lender as follows:\n",
      "\n",
      "3.1 Maintenance of the Vehicle\n",
      "The Borrower shall maintain the vehicle in good working condition and shall bear all costs associated with the maintenance of the vehicle.\n",
      "\n",
      "3.2 Insurance\n",
      "The Borrower shall maintain comprehensive insurance on the vehicle at all times during the term of the loan.\n",
      "\n",
      "(Additional affirmative and negative covenants would be detailed in this section, including financial reporting requirements, restrictions on indebtedness, etc.)\n",
      "\n",
      "ARTICLE 4 – EVENTS OF DEFAULT\n",
      "The following shall constitute events of default under this Agreement:\n",
      "\n",
      "4.1 Non-Payment\n",
      "Failure by the Borrower to pay any amount due under this Agreement within ten (10) days of the due date.\n",
      "\n",
      "4.2 Breach of Representation\n",
      "Any representation or warranty made by the Borrower herein proves to have been incorrect in any material respect when made.\n",
      "\n",
      "(Additional events of default would be detailed in this section, including bankruptcy events, cross-defaults to other agreements, etc.)\n",
      "\n",
      "ARTICLE 5 – MISCELLANEOUS\n",
      "5.1 Notices\n",
      "Any notice or other communication required or permitted to be given hereunder shall be in writing and shall be deemed to have been duly given when delivered in person, or sent by registered mail, to the respective parties at the addresses set forth above.\n",
      "\n",
      "5.2 Governing Law\n",
      "This Agreement shall be governed by and construed in accordance with the laws of the state, without regard to conflict of laws principles.\n",
      "\n",
      "(Additional miscellaneous provisions would include details regarding amendments, waivers, severability, etc.)\n",
      "\n",
      "IN WITNESS WHEREOF, the parties hereto have executed this Agreement as of the date first above written.\n",
      "ABC Auto Loans 157\n",
      "By:_________________\n",
      "Name: (To be filled in)\n",
      "Title: Loan Officer\n",
      "\n",
      "John Doe 951\n",
      "By:_________________\n",
      "Name: John Doe 951\n",
      "Title: Borrower\n",
      "\n",
      "DISCLAIMER:\n",
      "THIS DOCUMENT IS A MOCK REPRESENTATION CREATED FOR DEMONSTRATION PURPOSES ONLY. IT IS NOT INTENDED TO BE USED FOR ANY REAL LEGAL OR COMMERCIAL TRANSACTIONS.\n",
      "\n",
      "\n",
      "llm_prompt.get_section_keys(): ['doc9', 'doc8', 'doc12', 'doc10', 'doc11', 'doc6', 'doc7', 'doc5', 'doc4', 'doc1', 'doc3', 'doc2']\n"
     ]
    }
   ],
   "source": [
    "# Print out one of the loaded sections\n",
    "print(f\"Contents of the 'example_section' section: {llm_context_manager.sections.get('doc1', 'Section not found.')}\")\n",
    "print(f\"llm_prompt.get_section_keys(): {llm_context_manager.get_section_keys()}\")"
   ]
  },
  {
   "cell_type": "markdown",
   "metadata": {},
   "source": [
    "## Total context length\n",
    "There's 8931 words in the total corpus, which is definitely over the 4097 token limit for the text-davinci-003 model."
   ]
  },
  {
   "cell_type": "code",
   "execution_count": 10,
   "metadata": {},
   "outputs": [
    {
     "name": "stdout",
     "output_type": "stream",
     "text": [
      "The total number of words in the values is: 8931\n"
     ]
    }
   ],
   "source": [
    "#: Get the word count:\n",
    "total_words = llm_context_manager.get_total_word_count()\n",
    "print(f\"The total number of words in the values is: {total_words}\")"
   ]
  },
  {
   "cell_type": "markdown",
   "metadata": {},
   "source": [
    "## Summarize \n",
    "Apply the summarizer to extract key points."
   ]
  },
  {
   "cell_type": "code",
   "execution_count": 26,
   "metadata": {},
   "outputs": [
    {
     "name": "stdout",
     "output_type": "stream",
     "text": [
      "\n",
      "summarized_context: \n",
      " Document ID: doc9\n",
      "Lender: VWX Auto Financing 411\n",
      "Borrower: Taylor Green 361\n",
      "Loan Amount: $38,267\n",
      "Interest Rate: 11.49% \n",
      "Down Payment: $2,430.43\n",
      "Loan Term: 57 months\n",
      "\n",
      "Document ID: doc8\n",
      "Lender: STU Car Loans 560\n",
      "Borrower: Alex Lee 190\n",
      "Loan Amount: $71,623\n",
      "Interest Rate: 9.96%\n",
      "Down Payment: $11,835.52\n",
      "Loan Term: 70 months\n",
      "\n",
      "Document ID: doc12\n",
      "Lender: ST Auto Loans 680\n",
      "Borrower: Pat Jordan 945\n",
      "Loan Amount: $44,973\n",
      "Interest Rate: 4.06%\n",
      "Down Payment: $7,913.52\n",
      "Loan Term: 47 months\n",
      "\n",
      "Document ID: doc10\n",
      "Output: \n",
      "Lender: YZ Auto Lenders 684\n",
      "Borrower: Jordan Brown 809\n",
      "Loan Amount: $73,905\n",
      "Interest Rate: 6.89%\n",
      "Down Payment: $3,344.81\n",
      "Loan Term: 49 months\n",
      "\n",
      "Document ID: doc11\n",
      "Lender: QR Auto Finance 268\n",
      "Borrower: Casey White 541\n",
      "Loan Amount: US$12,404\n",
      "Interest Rate: 1.57%\n",
      "Down Payment: US$908.06\n",
      "Loan Term: 50 months\n",
      "\n",
      "Document ID: doc6\n",
      "Lender: MNO Auto Lenders 589\n",
      "Borrower: Jordan Brown 106\n",
      "Loan Amount: $23,507\n",
      "Interest Rate: 9.59%\n",
      "Down Payment: $1,439.31\n",
      "Loan Term: 73 months\n",
      "\n",
      "Document ID: doc7\n",
      "Output: \n",
      "Lender: PQR Auto Finance 763\n",
      "Borrower: Casey White 222\n",
      "Loan Amount: $14,488\n",
      "Interest Rate: 9.13%\n",
      "Down Payment: $1,222.63\n",
      "Loan Term: 55 months\n",
      "\n",
      "Document ID: doc5\n",
      "Lender: JKL Car Financing 437\n",
      "Borrower: Taylor Green 204\n",
      "Loan Amount: $9,826\n",
      "Interest Rate: 3.69%\n",
      "Down Payment: $435.85\n",
      "Loan Term: 83 months\n",
      "\n",
      "Document ID: doc4\n",
      "Output:\n",
      "Lender: GHI Auto Loans 332\n",
      "Borrower: Chris Lee 938\n",
      "Loan Amount: $17,706\n",
      "Interest Rate: 13.3%\n",
      "Down Payment: $717.71\n",
      "Loan Term: 82 Months\n",
      "\n",
      "Document ID: doc1\n",
      "Lender: ABC Auto Loans 157\n",
      "Borrower: John Doe 951\n",
      "Loan Amount: $52,552\n",
      "Interest Rate: 9.67%\n",
      "Down Payment:  $3,874.77 \n",
      "Loan Term: 44 months\n",
      "\n",
      "Document ID: doc3\n",
      "Lender: DEF Auto Financing 372\n",
      "Borrower: Alex Johnson 986\n",
      "Loan Amount: $14,679\n",
      "Interest Rate: 4.69%\n",
      "Down Payment: $1,774.92\n",
      "Loan Term: 76 months\n",
      "\n",
      "Document ID: doc2\n",
      "Lender: XYZ Auto Finance 139\n",
      "Borrower: Jane Doe 947\n",
      "Loan Amount: $53,178\n",
      "Interest Rate: 4.4%\n",
      "Down Payment: $1,185\n",
      "Loan Term: 62 months\n",
      "\n"
     ]
    }
   ],
   "source": [
    "#: Get summarized content:\n",
    "summarized_context = dict_to_text(llm_context_manager.get_summarized_context())\n",
    "print(f\"\\nsummarized_context: \\n {summarized_context}\")"
   ]
  },
  {
   "cell_type": "markdown",
   "metadata": {},
   "source": [
    "## Analyze the summarized key points\n",
    "Now, we'll apply the analyzer on the summarized key points.  Here, we use openai function calling to provide the LLM with a basic tool that allows it to sum up loan amounts over the summarized context."
   ]
  },
  {
   "cell_type": "code",
   "execution_count": 19,
   "metadata": {},
   "outputs": [
    {
     "name": "stdout",
     "output_type": "stream",
     "text": [
      "self.prompt: Using the available data, extract the debt amounts and pass them into the available function to compute their sum. They should be designated as Loan Amount:\n"
     ]
    }
   ],
   "source": [
    "llm_analyzer = LLMAnalyzer()"
   ]
  },
  {
   "cell_type": "code",
   "execution_count": 28,
   "metadata": {},
   "outputs": [
    {
     "name": "stdout",
     "output_type": "stream",
     "text": [
      "full_message: {\n",
      "  \"index\": 0,\n",
      "  \"message\": {\n",
      "    \"role\": \"assistant\",\n",
      "    \"content\": null,\n",
      "    \"function_call\": {\n",
      "      \"name\": \"compute_total_debt\",\n",
      "      \"arguments\": \"{\\n\\\"debts\\\": [38267, 71623, 44973, 73905, 12404, 23507, 14488, 9826, 17706, 52552, 14679, 53178]\\n}\"\n",
      "    }\n",
      "  },\n",
      "  \"finish_reason\": \"stop\"\n",
      "}\n",
      "\u001b[32mfunction_call: {\n",
      "  \"index\": 0,\n",
      "  \"message\": {\n",
      "    \"role\": \"assistant\",\n",
      "    \"content\": null,\n",
      "    \"function_call\": {\n",
      "      \"name\": \"compute_total_debt\",\n",
      "      \"arguments\": \"{\\n\\\"debts\\\": [38267, 71623, 44973, 73905, 12404, 23507, 14488, 9826, 17706, 52552, 14679, 53178]\\n}\"\n",
      "    }\n",
      "  },\n",
      "  \"finish_reason\": \"stop\"\n",
      "}\u001b[0m\n"
     ]
    }
   ],
   "source": [
    "#: Call the fuction\n",
    "function_call = llm_analyzer.do_analysis(summarized_context)\n",
    "print(colored(f\"function_call: {function_call}\", \"green\"))"
   ]
  },
  {
   "cell_type": "markdown",
   "metadata": {},
   "source": [
    "## Handling the debt amounts extracted by the LLM\n",
    "\n",
    "We still have to parse the function arguments from string form to python objects.\n",
    "\n",
    "The arguments represent a list of debts extracted by our LLMSummarizer, by way of the LLMContextManager."
   ]
  },
  {
   "cell_type": "code",
   "execution_count": 36,
   "metadata": {},
   "outputs": [
    {
     "name": "stdout",
     "output_type": "stream",
     "text": [
      "s: {\n",
      "\"debts\": [38267, 71623, 44973, 73905, 12404, 23507, 14488, 9826, 17706, 52552, 14679, 53178]\n",
      "}\n",
      "type(s): <class 'str'>\n",
      "<class 'list'>\n",
      "\u001b[34margs: [38267, 71623, 44973, 73905, 12404, 23507, 14488, 9826, 17706, 52552, 14679, 53178]\u001b[0m\n"
     ]
    }
   ],
   "source": [
    "function_args = function_call['message']['function_call']['arguments']\n",
    "args = extract_args(function_args)\n",
    "args = parse_string_to_list(args)\n",
    "\n",
    "print(type(args))\n",
    "print(colored(f\"args: {args}\", \"blue\"))"
   ]
  },
  {
   "cell_type": "markdown",
   "metadata": {},
   "source": [
    "### Final Result.\n",
    "Now, we can pass the function arguments to the python function to compute the total debt."
   ]
  },
  {
   "cell_type": "code",
   "execution_count": 37,
   "metadata": {},
   "outputs": [],
   "source": [
    "#: The actual python function that will be called using the llm output\n",
    "def compute_total_debt(inputs):\n",
    "    return sum(inputs)"
   ]
  },
  {
   "cell_type": "code",
   "execution_count": 38,
   "metadata": {},
   "outputs": [
    {
     "name": "stdout",
     "output_type": "stream",
     "text": [
      "final_result: 427108\n"
     ]
    }
   ],
   "source": [
    "final_result = compute_total_debt(args)\n",
    "print(f\"final_result: {final_result}\")"
   ]
  },
  {
   "cell_type": "markdown",
   "metadata": {},
   "source": [
    "# Final Answer: $427,108.00"
   ]
  },
  {
   "cell_type": "code",
   "execution_count": null,
   "metadata": {},
   "outputs": [],
   "source": []
  }
 ],
 "metadata": {
  "kernelspec": {
   "display_name": "llms",
   "language": "python",
   "name": "python3"
  },
  "language_info": {
   "codemirror_mode": {
    "name": "ipython",
    "version": 3
   },
   "file_extension": ".py",
   "mimetype": "text/x-python",
   "name": "python",
   "nbconvert_exporter": "python",
   "pygments_lexer": "ipython3",
   "version": "3.10.12"
  },
  "orig_nbformat": 4
 },
 "nbformat": 4,
 "nbformat_minor": 2
}
